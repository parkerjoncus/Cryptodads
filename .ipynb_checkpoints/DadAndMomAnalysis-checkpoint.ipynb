{
 "cells": [
  {
   "cell_type": "code",
   "execution_count": 1,
   "id": "d89d9830",
   "metadata": {},
   "outputs": [],
   "source": [
    "from opensea import OpenseaAPI\n",
    "import requests\n",
    "import pandas as pd\n",
    "import matplotlib.pyplot as plt\n",
    "import numpy as np\n",
    "import asyncio\n",
    "import json\n",
    "import seaborn as sns\n",
    "from datetime import datetime, timedelta, timezone\n",
    "import pytz"
   ]
  },
  {
   "cell_type": "markdown",
   "id": "b7790c28",
   "metadata": {},
   "source": [
    "# CryptoDads"
   ]
  },
  {
   "cell_type": "markdown",
   "id": "c6ea0332",
   "metadata": {},
   "source": [
    "## Floor analysis"
   ]
  },
  {
   "cell_type": "code",
   "execution_count": 2,
   "id": "5fb9c94a",
   "metadata": {},
   "outputs": [],
   "source": [
    "plt.rcParams[\"figure.figsize\"] = (20,15)"
   ]
  },
  {
   "cell_type": "code",
   "execution_count": 3,
   "id": "9f0f2932",
   "metadata": {},
   "outputs": [],
   "source": [
    "dad_df = pd.read_excel('listed_dads.xlsx')"
   ]
  },
  {
   "cell_type": "code",
   "execution_count": 4,
   "id": "d62966d8",
   "metadata": {},
   "outputs": [],
   "source": [
    "listed_dads = dad_df[dad_df.isListed == True]"
   ]
  },
  {
   "cell_type": "markdown",
   "id": "00c582a2",
   "metadata": {},
   "source": [
    "### Floor Price"
   ]
  },
  {
   "cell_type": "code",
   "execution_count": 5,
   "id": "66ba06d4",
   "metadata": {},
   "outputs": [
    {
     "data": {
      "text/plain": [
       "0.08"
      ]
     },
     "execution_count": 5,
     "metadata": {},
     "output_type": "execute_result"
    }
   ],
   "source": [
    "min(listed_dads['Amount'])"
   ]
  },
  {
   "cell_type": "markdown",
   "id": "e25c0c0d",
   "metadata": {},
   "source": [
    "### Total listed"
   ]
  },
  {
   "cell_type": "code",
   "execution_count": 6,
   "id": "e1ce94c8",
   "metadata": {},
   "outputs": [
    {
     "data": {
      "text/plain": [
       "542"
      ]
     },
     "execution_count": 6,
     "metadata": {},
     "output_type": "execute_result"
    }
   ],
   "source": [
    "len(listed_dads)"
   ]
  },
  {
   "cell_type": "markdown",
   "id": "dce273a8",
   "metadata": {},
   "source": [
    "### Group listed prices"
   ]
  },
  {
   "cell_type": "markdown",
   "id": "fbfbd7b5",
   "metadata": {},
   "source": [
    "#### Number below .1"
   ]
  },
  {
   "cell_type": "code",
   "execution_count": 7,
   "id": "b57b42d7",
   "metadata": {},
   "outputs": [
    {
     "data": {
      "text/plain": [
       "8"
      ]
     },
     "execution_count": 7,
     "metadata": {},
     "output_type": "execute_result"
    }
   ],
   "source": [
    "len(listed_dads[listed_dads['Amount'] < .1])"
   ]
  },
  {
   "cell_type": "markdown",
   "id": "28e7d628",
   "metadata": {},
   "source": [
    "#### Number between .1 and .25"
   ]
  },
  {
   "cell_type": "code",
   "execution_count": 8,
   "id": "b948abbd",
   "metadata": {},
   "outputs": [
    {
     "data": {
      "text/plain": [
       "169"
      ]
     },
     "execution_count": 8,
     "metadata": {},
     "output_type": "execute_result"
    }
   ],
   "source": [
    "len(listed_dads[listed_dads['Amount'].between(.1,.25)])"
   ]
  },
  {
   "cell_type": "markdown",
   "id": "fd58421d",
   "metadata": {},
   "source": [
    "#### Number between .25 and .5"
   ]
  },
  {
   "cell_type": "code",
   "execution_count": 9,
   "id": "53136c97",
   "metadata": {},
   "outputs": [
    {
     "data": {
      "text/plain": [
       "147"
      ]
     },
     "execution_count": 9,
     "metadata": {},
     "output_type": "execute_result"
    }
   ],
   "source": [
    "len(listed_dads[listed_dads['Amount'].between(.25,.5)])"
   ]
  },
  {
   "cell_type": "markdown",
   "id": "3e12158f",
   "metadata": {},
   "source": [
    "#### Number between .5 and 1"
   ]
  },
  {
   "cell_type": "code",
   "execution_count": 10,
   "id": "221681aa",
   "metadata": {},
   "outputs": [
    {
     "data": {
      "text/plain": [
       "113"
      ]
     },
     "execution_count": 10,
     "metadata": {},
     "output_type": "execute_result"
    }
   ],
   "source": [
    "len(listed_dads[listed_dads['Amount'].between(.5,1)])"
   ]
  },
  {
   "cell_type": "markdown",
   "id": "23137619",
   "metadata": {},
   "source": [
    "### 0-1 eth Histogram"
   ]
  },
  {
   "cell_type": "code",
   "execution_count": 24,
   "id": "baae8e48",
   "metadata": {},
   "outputs": [
    {
     "data": {
      "image/png": "[encoded data removed]",
      "text/plain": [
       "<Figure size 1296x864 with 1 Axes>"
      ]
     },
     "metadata": {
      "needs_background": "light"
     },
     "output_type": "display_data"
    }
   ],
   "source": [
    "# Plot the histogram thanks to the distplot function\n",
    "ax = sns.distplot( a=listed_dads[\"Amount\"], hist=True, kde=False, rug=False, hist_kws={\"range\": [0,1]} )\n",
    "ax.set_xlim(0, 1)\n",
    "ax.set_xlabel('Listed Amount (Eth)')\n",
    "ax.set_ylabel('Number Listed')\n",
    "fig = ax.get_figure()\n",
    "fig.savefig('1ehist.png')"
   ]
  },
  {
   "cell_type": "markdown",
   "id": "fa569b0a",
   "metadata": {},
   "source": [
    "### 0-0.5 eth histogram"
   ]
  },
  {
   "cell_type": "code",
   "execution_count": 25,
   "id": "9d5b3cbc",
   "metadata": {},
   "outputs": [
    {
     "data": {
      "image/png": "[encoded data removed]",
      "text/plain": [
       "<Figure size 1296x864 with 1 Axes>"
      ]
     },
     "metadata": {
      "needs_background": "light"
     },
     "output_type": "display_data"
    }
   ],
   "source": [
    "ax = sns.distplot( a=listed_dads[\"Amount\"], hist=True, kde=False, rug=False, hist_kws={\"range\": [0,1]} )\n",
    "ax.set_xlim(0, .5)\n",
    "ax.set_xlabel('Listed Amount (Eth)')\n",
    "ax.set_ylabel('Number Listed')\n",
    "fig = ax.get_figure()\n",
    "fig.savefig('5ehist.png')"
   ]
  },
  {
   "cell_type": "markdown",
   "id": "e64c5e6e",
   "metadata": {},
   "source": [
    "### Sort by price and create total"
   ]
  },
  {
   "cell_type": "code",
   "execution_count": 26,
   "id": "10a1e4d4",
   "metadata": {
    "scrolled": true
   },
   "outputs": [
    {
     "name": "stderr",
     "output_type": "stream",
     "text": [
      "/var/folders/2x/3mxlxh5j41591hhpz0c2wyhr0000gn/T/ipykernel_20881/856360561.py:1: SettingWithCopyWarning: \n",
      "A value is trying to be set on a copy of a slice from a DataFrame.\n",
      "Try using .loc[row_indexer,col_indexer] = value instead\n",
      "\n",
      "See the caveats in the documentation: https://pandas.pydata.org/pandas-docs/stable/user_guide/indexing.html#returning-a-view-versus-a-copy\n",
      "  listed_dads[\"TotalEth\"] = 0\n"
     ]
    }
   ],
   "source": [
    "listed_dads[\"TotalEth\"] = 0"
   ]
  },
  {
   "cell_type": "code",
   "execution_count": 27,
   "id": "bcfa027a",
   "metadata": {},
   "outputs": [
    {
     "data": {
      "text/html": [
       "<div>\n",
       "<style scoped>\n",
       "    .dataframe tbody tr th:only-of-type {\n",
       "        vertical-align: middle;\n",
       "    }\n",
       "\n",
       "    .dataframe tbody tr th {\n",
       "        vertical-align: top;\n",
       "    }\n",
       "\n",
       "    .dataframe thead th {\n",
       "        text-align: right;\n",
       "    }\n",
       "</style>\n",
       "<table border=\"1\" class=\"dataframe\">\n",
       "  <thead>\n",
       "    <tr style=\"text-align: right;\">\n",
       "      <th></th>\n",
       "      <th>Unnamed: 0</th>\n",
       "      <th>Unnamed: 0.1</th>\n",
       "      <th>id</th>\n",
       "      <th>isListed</th>\n",
       "      <th>Amount</th>\n",
       "      <th>Status</th>\n",
       "      <th>TotalEth</th>\n",
       "    </tr>\n",
       "  </thead>\n",
       "  <tbody>\n",
       "    <tr>\n",
       "      <th>0</th>\n",
       "      <td>8946</td>\n",
       "      <td>8946</td>\n",
       "      <td>8947</td>\n",
       "      <td>True</td>\n",
       "      <td>0.0800</td>\n",
       "      <td>Listed</td>\n",
       "      <td>0.0800</td>\n",
       "    </tr>\n",
       "    <tr>\n",
       "      <th>1</th>\n",
       "      <td>8312</td>\n",
       "      <td>8312</td>\n",
       "      <td>8313</td>\n",
       "      <td>True</td>\n",
       "      <td>0.0899</td>\n",
       "      <td>Listed</td>\n",
       "      <td>0.1699</td>\n",
       "    </tr>\n",
       "    <tr>\n",
       "      <th>2</th>\n",
       "      <td>6938</td>\n",
       "      <td>6938</td>\n",
       "      <td>6939</td>\n",
       "      <td>True</td>\n",
       "      <td>0.0900</td>\n",
       "      <td>Listed</td>\n",
       "      <td>0.2599</td>\n",
       "    </tr>\n",
       "    <tr>\n",
       "      <th>3</th>\n",
       "      <td>1389</td>\n",
       "      <td>1389</td>\n",
       "      <td>1390</td>\n",
       "      <td>True</td>\n",
       "      <td>0.0900</td>\n",
       "      <td>Listed</td>\n",
       "      <td>0.3499</td>\n",
       "    </tr>\n",
       "    <tr>\n",
       "      <th>4</th>\n",
       "      <td>6957</td>\n",
       "      <td>6957</td>\n",
       "      <td>6958</td>\n",
       "      <td>True</td>\n",
       "      <td>0.0940</td>\n",
       "      <td>Listed</td>\n",
       "      <td>0.4439</td>\n",
       "    </tr>\n",
       "    <tr>\n",
       "      <th>...</th>\n",
       "      <td>...</td>\n",
       "      <td>...</td>\n",
       "      <td>...</td>\n",
       "      <td>...</td>\n",
       "      <td>...</td>\n",
       "      <td>...</td>\n",
       "      <td>...</td>\n",
       "    </tr>\n",
       "    <tr>\n",
       "      <th>537</th>\n",
       "      <td>24</td>\n",
       "      <td>24</td>\n",
       "      <td>25</td>\n",
       "      <td>True</td>\n",
       "      <td>43.0000</td>\n",
       "      <td>Listed</td>\n",
       "      <td>944.3530</td>\n",
       "    </tr>\n",
       "    <tr>\n",
       "      <th>538</th>\n",
       "      <td>8728</td>\n",
       "      <td>8728</td>\n",
       "      <td>8729</td>\n",
       "      <td>True</td>\n",
       "      <td>50.0000</td>\n",
       "      <td>Listed</td>\n",
       "      <td>994.3530</td>\n",
       "    </tr>\n",
       "    <tr>\n",
       "      <th>539</th>\n",
       "      <td>6227</td>\n",
       "      <td>6227</td>\n",
       "      <td>6228</td>\n",
       "      <td>True</td>\n",
       "      <td>99.9900</td>\n",
       "      <td>Listed</td>\n",
       "      <td>1094.3430</td>\n",
       "    </tr>\n",
       "    <tr>\n",
       "      <th>540</th>\n",
       "      <td>8562</td>\n",
       "      <td>8562</td>\n",
       "      <td>8563</td>\n",
       "      <td>True</td>\n",
       "      <td>101.0000</td>\n",
       "      <td>Listed</td>\n",
       "      <td>1195.3430</td>\n",
       "    </tr>\n",
       "    <tr>\n",
       "      <th>541</th>\n",
       "      <td>7908</td>\n",
       "      <td>7908</td>\n",
       "      <td>7909</td>\n",
       "      <td>True</td>\n",
       "      <td>303.0000</td>\n",
       "      <td>Listed</td>\n",
       "      <td>1498.3430</td>\n",
       "    </tr>\n",
       "  </tbody>\n",
       "</table>\n",
       "<p>542 rows × 7 columns</p>\n",
       "</div>"
      ],
      "text/plain": [
       "     Unnamed: 0  Unnamed: 0.1    id  isListed    Amount  Status   TotalEth\n",
       "0          8946          8946  8947      True    0.0800  Listed     0.0800\n",
       "1          8312          8312  8313      True    0.0899  Listed     0.1699\n",
       "2          6938          6938  6939      True    0.0900  Listed     0.2599\n",
       "3          1389          1389  1390      True    0.0900  Listed     0.3499\n",
       "4          6957          6957  6958      True    0.0940  Listed     0.4439\n",
       "..          ...           ...   ...       ...       ...     ...        ...\n",
       "537          24            24    25      True   43.0000  Listed   944.3530\n",
       "538        8728          8728  8729      True   50.0000  Listed   994.3530\n",
       "539        6227          6227  6228      True   99.9900  Listed  1094.3430\n",
       "540        8562          8562  8563      True  101.0000  Listed  1195.3430\n",
       "541        7908          7908  7909      True  303.0000  Listed  1498.3430\n",
       "\n",
       "[542 rows x 7 columns]"
      ]
     },
     "execution_count": 27,
     "metadata": {},
     "output_type": "execute_result"
    }
   ],
   "source": [
    "sortedDads = listed_dads.sort_values(\"Amount\")\n",
    "sortedDads.reset_index(drop=True,inplace=True)\n",
    "sortedDads[\"TotalEth\"] = 0\n",
    "sortedDads[\"TotalEth\"] = sortedDads[\"TotalEth\"].astype(float)\n",
    "sortedDads.at[0,\"TotalEth\"] = sortedDads.iloc[0][\"Amount\"]\n",
    "for i in range(1,len(sortedDads)):\n",
    "    sortedDads.at[i,\"TotalEth\"] = sortedDads.iloc[i][\"Amount\"] + sortedDads.iloc[i-1][\"TotalEth\"]\n",
    "sortedDads"
   ]
  },
  {
   "cell_type": "code",
   "execution_count": 28,
   "id": "1791815a",
   "metadata": {},
   "outputs": [
    {
     "data": {
      "text/html": [
       "<div>\n",
       "<style scoped>\n",
       "    .dataframe tbody tr th:only-of-type {\n",
       "        vertical-align: middle;\n",
       "    }\n",
       "\n",
       "    .dataframe tbody tr th {\n",
       "        vertical-align: top;\n",
       "    }\n",
       "\n",
       "    .dataframe thead th {\n",
       "        text-align: right;\n",
       "    }\n",
       "</style>\n",
       "<table border=\"1\" class=\"dataframe\">\n",
       "  <thead>\n",
       "    <tr style=\"text-align: right;\">\n",
       "      <th></th>\n",
       "      <th>Unnamed: 0</th>\n",
       "      <th>Unnamed: 0.1</th>\n",
       "      <th>id</th>\n",
       "      <th>isListed</th>\n",
       "      <th>Amount</th>\n",
       "      <th>Status</th>\n",
       "      <th>TotalEth</th>\n",
       "    </tr>\n",
       "  </thead>\n",
       "  <tbody>\n",
       "    <tr>\n",
       "      <th>364</th>\n",
       "      <td>4135</td>\n",
       "      <td>4135</td>\n",
       "      <td>4136</td>\n",
       "      <td>True</td>\n",
       "      <td>1.0</td>\n",
       "      <td>Listed</td>\n",
       "      <td>128.7381</td>\n",
       "    </tr>\n",
       "    <tr>\n",
       "      <th>365</th>\n",
       "      <td>8339</td>\n",
       "      <td>8339</td>\n",
       "      <td>8340</td>\n",
       "      <td>True</td>\n",
       "      <td>1.0</td>\n",
       "      <td>Listed</td>\n",
       "      <td>129.7381</td>\n",
       "    </tr>\n",
       "    <tr>\n",
       "      <th>366</th>\n",
       "      <td>1048</td>\n",
       "      <td>1048</td>\n",
       "      <td>1049</td>\n",
       "      <td>True</td>\n",
       "      <td>1.0</td>\n",
       "      <td>Listed</td>\n",
       "      <td>130.7381</td>\n",
       "    </tr>\n",
       "    <tr>\n",
       "      <th>367</th>\n",
       "      <td>3638</td>\n",
       "      <td>3638</td>\n",
       "      <td>3639</td>\n",
       "      <td>True</td>\n",
       "      <td>1.0</td>\n",
       "      <td>Listed</td>\n",
       "      <td>131.7381</td>\n",
       "    </tr>\n",
       "    <tr>\n",
       "      <th>368</th>\n",
       "      <td>2288</td>\n",
       "      <td>2288</td>\n",
       "      <td>2289</td>\n",
       "      <td>True</td>\n",
       "      <td>1.0</td>\n",
       "      <td>Listed</td>\n",
       "      <td>132.7381</td>\n",
       "    </tr>\n",
       "    <tr>\n",
       "      <th>369</th>\n",
       "      <td>1047</td>\n",
       "      <td>1047</td>\n",
       "      <td>1048</td>\n",
       "      <td>True</td>\n",
       "      <td>1.0</td>\n",
       "      <td>Listed</td>\n",
       "      <td>133.7381</td>\n",
       "    </tr>\n",
       "    <tr>\n",
       "      <th>370</th>\n",
       "      <td>2363</td>\n",
       "      <td>2363</td>\n",
       "      <td>2364</td>\n",
       "      <td>True</td>\n",
       "      <td>1.0</td>\n",
       "      <td>Listed</td>\n",
       "      <td>134.7381</td>\n",
       "    </tr>\n",
       "    <tr>\n",
       "      <th>371</th>\n",
       "      <td>3059</td>\n",
       "      <td>3059</td>\n",
       "      <td>3060</td>\n",
       "      <td>True</td>\n",
       "      <td>1.0</td>\n",
       "      <td>Listed</td>\n",
       "      <td>135.7381</td>\n",
       "    </tr>\n",
       "    <tr>\n",
       "      <th>372</th>\n",
       "      <td>3056</td>\n",
       "      <td>3056</td>\n",
       "      <td>3057</td>\n",
       "      <td>True</td>\n",
       "      <td>1.0</td>\n",
       "      <td>Listed</td>\n",
       "      <td>136.7381</td>\n",
       "    </tr>\n",
       "    <tr>\n",
       "      <th>373</th>\n",
       "      <td>7977</td>\n",
       "      <td>7977</td>\n",
       "      <td>7978</td>\n",
       "      <td>True</td>\n",
       "      <td>1.0</td>\n",
       "      <td>Listed</td>\n",
       "      <td>137.7381</td>\n",
       "    </tr>\n",
       "    <tr>\n",
       "      <th>374</th>\n",
       "      <td>2924</td>\n",
       "      <td>2924</td>\n",
       "      <td>2925</td>\n",
       "      <td>True</td>\n",
       "      <td>1.0</td>\n",
       "      <td>Listed</td>\n",
       "      <td>138.7381</td>\n",
       "    </tr>\n",
       "    <tr>\n",
       "      <th>375</th>\n",
       "      <td>66</td>\n",
       "      <td>66</td>\n",
       "      <td>67</td>\n",
       "      <td>True</td>\n",
       "      <td>1.0</td>\n",
       "      <td>Listed</td>\n",
       "      <td>139.7381</td>\n",
       "    </tr>\n",
       "    <tr>\n",
       "      <th>376</th>\n",
       "      <td>6623</td>\n",
       "      <td>6623</td>\n",
       "      <td>6624</td>\n",
       "      <td>True</td>\n",
       "      <td>1.0</td>\n",
       "      <td>Listed</td>\n",
       "      <td>140.7381</td>\n",
       "    </tr>\n",
       "    <tr>\n",
       "      <th>377</th>\n",
       "      <td>6753</td>\n",
       "      <td>6753</td>\n",
       "      <td>6754</td>\n",
       "      <td>True</td>\n",
       "      <td>1.0</td>\n",
       "      <td>Listed</td>\n",
       "      <td>141.7381</td>\n",
       "    </tr>\n",
       "    <tr>\n",
       "      <th>378</th>\n",
       "      <td>4552</td>\n",
       "      <td>4552</td>\n",
       "      <td>4553</td>\n",
       "      <td>True</td>\n",
       "      <td>1.0</td>\n",
       "      <td>Listed</td>\n",
       "      <td>142.7381</td>\n",
       "    </tr>\n",
       "    <tr>\n",
       "      <th>379</th>\n",
       "      <td>4602</td>\n",
       "      <td>4602</td>\n",
       "      <td>4603</td>\n",
       "      <td>True</td>\n",
       "      <td>1.0</td>\n",
       "      <td>Listed</td>\n",
       "      <td>143.7381</td>\n",
       "    </tr>\n",
       "    <tr>\n",
       "      <th>380</th>\n",
       "      <td>6775</td>\n",
       "      <td>6775</td>\n",
       "      <td>6776</td>\n",
       "      <td>True</td>\n",
       "      <td>1.0</td>\n",
       "      <td>Listed</td>\n",
       "      <td>144.7381</td>\n",
       "    </tr>\n",
       "    <tr>\n",
       "      <th>381</th>\n",
       "      <td>1287</td>\n",
       "      <td>1287</td>\n",
       "      <td>1288</td>\n",
       "      <td>True</td>\n",
       "      <td>1.0</td>\n",
       "      <td>Listed</td>\n",
       "      <td>145.7381</td>\n",
       "    </tr>\n",
       "    <tr>\n",
       "      <th>382</th>\n",
       "      <td>6267</td>\n",
       "      <td>6267</td>\n",
       "      <td>6268</td>\n",
       "      <td>True</td>\n",
       "      <td>1.0</td>\n",
       "      <td>Listed</td>\n",
       "      <td>146.7381</td>\n",
       "    </tr>\n",
       "    <tr>\n",
       "      <th>383</th>\n",
       "      <td>8317</td>\n",
       "      <td>8317</td>\n",
       "      <td>8318</td>\n",
       "      <td>True</td>\n",
       "      <td>1.0</td>\n",
       "      <td>Listed</td>\n",
       "      <td>147.7381</td>\n",
       "    </tr>\n",
       "    <tr>\n",
       "      <th>384</th>\n",
       "      <td>5003</td>\n",
       "      <td>5003</td>\n",
       "      <td>5004</td>\n",
       "      <td>True</td>\n",
       "      <td>1.0</td>\n",
       "      <td>Listed</td>\n",
       "      <td>148.7381</td>\n",
       "    </tr>\n",
       "    <tr>\n",
       "      <th>385</th>\n",
       "      <td>9881</td>\n",
       "      <td>9881</td>\n",
       "      <td>9882</td>\n",
       "      <td>True</td>\n",
       "      <td>1.0</td>\n",
       "      <td>Listed</td>\n",
       "      <td>149.7381</td>\n",
       "    </tr>\n",
       "    <tr>\n",
       "      <th>386</th>\n",
       "      <td>1431</td>\n",
       "      <td>1431</td>\n",
       "      <td>1432</td>\n",
       "      <td>True</td>\n",
       "      <td>1.0</td>\n",
       "      <td>Listed</td>\n",
       "      <td>150.7381</td>\n",
       "    </tr>\n",
       "    <tr>\n",
       "      <th>387</th>\n",
       "      <td>8735</td>\n",
       "      <td>8735</td>\n",
       "      <td>8736</td>\n",
       "      <td>True</td>\n",
       "      <td>1.0</td>\n",
       "      <td>Listed</td>\n",
       "      <td>151.7381</td>\n",
       "    </tr>\n",
       "    <tr>\n",
       "      <th>388</th>\n",
       "      <td>9579</td>\n",
       "      <td>9579</td>\n",
       "      <td>9580</td>\n",
       "      <td>True</td>\n",
       "      <td>1.0</td>\n",
       "      <td>Listed</td>\n",
       "      <td>152.7381</td>\n",
       "    </tr>\n",
       "    <tr>\n",
       "      <th>389</th>\n",
       "      <td>8915</td>\n",
       "      <td>8915</td>\n",
       "      <td>8916</td>\n",
       "      <td>True</td>\n",
       "      <td>1.0</td>\n",
       "      <td>Listed</td>\n",
       "      <td>153.7381</td>\n",
       "    </tr>\n",
       "  </tbody>\n",
       "</table>\n",
       "</div>"
      ],
      "text/plain": [
       "     Unnamed: 0  Unnamed: 0.1    id  isListed  Amount  Status  TotalEth\n",
       "364        4135          4135  4136      True     1.0  Listed  128.7381\n",
       "365        8339          8339  8340      True     1.0  Listed  129.7381\n",
       "366        1048          1048  1049      True     1.0  Listed  130.7381\n",
       "367        3638          3638  3639      True     1.0  Listed  131.7381\n",
       "368        2288          2288  2289      True     1.0  Listed  132.7381\n",
       "369        1047          1047  1048      True     1.0  Listed  133.7381\n",
       "370        2363          2363  2364      True     1.0  Listed  134.7381\n",
       "371        3059          3059  3060      True     1.0  Listed  135.7381\n",
       "372        3056          3056  3057      True     1.0  Listed  136.7381\n",
       "373        7977          7977  7978      True     1.0  Listed  137.7381\n",
       "374        2924          2924  2925      True     1.0  Listed  138.7381\n",
       "375          66            66    67      True     1.0  Listed  139.7381\n",
       "376        6623          6623  6624      True     1.0  Listed  140.7381\n",
       "377        6753          6753  6754      True     1.0  Listed  141.7381\n",
       "378        4552          4552  4553      True     1.0  Listed  142.7381\n",
       "379        4602          4602  4603      True     1.0  Listed  143.7381\n",
       "380        6775          6775  6776      True     1.0  Listed  144.7381\n",
       "381        1287          1287  1288      True     1.0  Listed  145.7381\n",
       "382        6267          6267  6268      True     1.0  Listed  146.7381\n",
       "383        8317          8317  8318      True     1.0  Listed  147.7381\n",
       "384        5003          5003  5004      True     1.0  Listed  148.7381\n",
       "385        9881          9881  9882      True     1.0  Listed  149.7381\n",
       "386        1431          1431  1432      True     1.0  Listed  150.7381\n",
       "387        8735          8735  8736      True     1.0  Listed  151.7381\n",
       "388        9579          9579  9580      True     1.0  Listed  152.7381\n",
       "389        8915          8915  8916      True     1.0  Listed  153.7381"
      ]
     },
     "execution_count": 28,
     "metadata": {},
     "output_type": "execute_result"
    }
   ],
   "source": [
    "sortedDads[sortedDads[\"Amount\"] == 1]"
   ]
  },
  {
   "cell_type": "markdown",
   "id": "bd5c673e",
   "metadata": {},
   "source": [
    "### Line Chart of listed values vs eth to get there 0-1"
   ]
  },
  {
   "cell_type": "code",
   "execution_count": 33,
   "id": "e9ae66a0",
   "metadata": {},
   "outputs": [
    {
     "data": {
      "image/png": "[encoded data removed]",
      "text/plain": [
       "<Figure size 1296x864 with 1 Axes>"
      ]
     },
     "metadata": {
      "needs_background": "light"
     },
     "output_type": "display_data"
    }
   ],
   "source": [
    "plt.xlim([0,1])\n",
    "plt.ylim([0,130])\n",
    "plt.xlabel('Floor Value (Eth)')\n",
    "plt.ylabel('Eth Needed To Reach Floor')\n",
    "plt.rcParams[\"figure.figsize\"] = (18,12)\n",
    "plt.plot( 'Amount', 'TotalEth', data=sortedDads)\n",
    "plt.savefig('gettofloor1.png')"
   ]
  },
  {
   "cell_type": "markdown",
   "id": "182a2f09",
   "metadata": {},
   "source": [
    "### Line Chart of listed values vs eth to get there 0-.5"
   ]
  },
  {
   "cell_type": "code",
   "execution_count": 34,
   "id": "660c34c4",
   "metadata": {
    "scrolled": false
   },
   "outputs": [
    {
     "data": {
      "image/png": "[encoded data removed]",
      "text/plain": [
       "<Figure size 1296x864 with 1 Axes>"
      ]
     },
     "metadata": {
      "needs_background": "light"
     },
     "output_type": "display_data"
    }
   ],
   "source": [
    "plt.xlim([0,.5])\n",
    "plt.ylim([0,70])\n",
    "plt.xlabel('Floor Value (Eth)')\n",
    "plt.ylabel('Eth Needed To Reach Floor')\n",
    "plt.rcParams[\"figure.figsize\"] = (18,12)\n",
    "plt.plot( 'Amount', 'TotalEth', data=sortedDads)\n",
    "plt.savefig('gettofloor2.png')"
   ]
  },
  {
   "cell_type": "markdown",
   "id": "f70d7cb4",
   "metadata": {},
   "source": [
    "### 10 Eth sweep"
   ]
  },
  {
   "cell_type": "code",
   "execution_count": 35,
   "id": "5cc6d6aa",
   "metadata": {
    "scrolled": true
   },
   "outputs": [
    {
     "data": {
      "text/html": [
       "<div>\n",
       "<style scoped>\n",
       "    .dataframe tbody tr th:only-of-type {\n",
       "        vertical-align: middle;\n",
       "    }\n",
       "\n",
       "    .dataframe tbody tr th {\n",
       "        vertical-align: top;\n",
       "    }\n",
       "\n",
       "    .dataframe thead th {\n",
       "        text-align: right;\n",
       "    }\n",
       "</style>\n",
       "<table border=\"1\" class=\"dataframe\">\n",
       "  <thead>\n",
       "    <tr style=\"text-align: right;\">\n",
       "      <th></th>\n",
       "      <th>Unnamed: 0</th>\n",
       "      <th>Unnamed: 0.1</th>\n",
       "      <th>id</th>\n",
       "      <th>isListed</th>\n",
       "      <th>Amount</th>\n",
       "      <th>Status</th>\n",
       "      <th>TotalEth</th>\n",
       "    </tr>\n",
       "  </thead>\n",
       "  <tbody>\n",
       "    <tr>\n",
       "      <th>0</th>\n",
       "      <td>8946</td>\n",
       "      <td>8946</td>\n",
       "      <td>8947</td>\n",
       "      <td>True</td>\n",
       "      <td>0.0800</td>\n",
       "      <td>Listed</td>\n",
       "      <td>0.0800</td>\n",
       "    </tr>\n",
       "    <tr>\n",
       "      <th>1</th>\n",
       "      <td>8312</td>\n",
       "      <td>8312</td>\n",
       "      <td>8313</td>\n",
       "      <td>True</td>\n",
       "      <td>0.0899</td>\n",
       "      <td>Listed</td>\n",
       "      <td>0.1699</td>\n",
       "    </tr>\n",
       "    <tr>\n",
       "      <th>2</th>\n",
       "      <td>6938</td>\n",
       "      <td>6938</td>\n",
       "      <td>6939</td>\n",
       "      <td>True</td>\n",
       "      <td>0.0900</td>\n",
       "      <td>Listed</td>\n",
       "      <td>0.2599</td>\n",
       "    </tr>\n",
       "    <tr>\n",
       "      <th>3</th>\n",
       "      <td>1389</td>\n",
       "      <td>1389</td>\n",
       "      <td>1390</td>\n",
       "      <td>True</td>\n",
       "      <td>0.0900</td>\n",
       "      <td>Listed</td>\n",
       "      <td>0.3499</td>\n",
       "    </tr>\n",
       "    <tr>\n",
       "      <th>4</th>\n",
       "      <td>6957</td>\n",
       "      <td>6957</td>\n",
       "      <td>6958</td>\n",
       "      <td>True</td>\n",
       "      <td>0.0940</td>\n",
       "      <td>Listed</td>\n",
       "      <td>0.4439</td>\n",
       "    </tr>\n",
       "    <tr>\n",
       "      <th>...</th>\n",
       "      <td>...</td>\n",
       "      <td>...</td>\n",
       "      <td>...</td>\n",
       "      <td>...</td>\n",
       "      <td>...</td>\n",
       "      <td>...</td>\n",
       "      <td>...</td>\n",
       "    </tr>\n",
       "    <tr>\n",
       "      <th>75</th>\n",
       "      <td>3676</td>\n",
       "      <td>3676</td>\n",
       "      <td>3677</td>\n",
       "      <td>True</td>\n",
       "      <td>0.1500</td>\n",
       "      <td>Listed</td>\n",
       "      <td>9.2711</td>\n",
       "    </tr>\n",
       "    <tr>\n",
       "      <th>76</th>\n",
       "      <td>3362</td>\n",
       "      <td>3362</td>\n",
       "      <td>3363</td>\n",
       "      <td>True</td>\n",
       "      <td>0.1500</td>\n",
       "      <td>Listed</td>\n",
       "      <td>9.4211</td>\n",
       "    </tr>\n",
       "    <tr>\n",
       "      <th>77</th>\n",
       "      <td>7931</td>\n",
       "      <td>7931</td>\n",
       "      <td>7932</td>\n",
       "      <td>True</td>\n",
       "      <td>0.1500</td>\n",
       "      <td>Listed</td>\n",
       "      <td>9.5711</td>\n",
       "    </tr>\n",
       "    <tr>\n",
       "      <th>78</th>\n",
       "      <td>9100</td>\n",
       "      <td>9100</td>\n",
       "      <td>9101</td>\n",
       "      <td>True</td>\n",
       "      <td>0.1500</td>\n",
       "      <td>Listed</td>\n",
       "      <td>9.7211</td>\n",
       "    </tr>\n",
       "    <tr>\n",
       "      <th>79</th>\n",
       "      <td>1464</td>\n",
       "      <td>1464</td>\n",
       "      <td>1465</td>\n",
       "      <td>True</td>\n",
       "      <td>0.1500</td>\n",
       "      <td>Listed</td>\n",
       "      <td>9.8711</td>\n",
       "    </tr>\n",
       "  </tbody>\n",
       "</table>\n",
       "<p>80 rows × 7 columns</p>\n",
       "</div>"
      ],
      "text/plain": [
       "    Unnamed: 0  Unnamed: 0.1    id  isListed  Amount  Status  TotalEth\n",
       "0         8946          8946  8947      True  0.0800  Listed    0.0800\n",
       "1         8312          8312  8313      True  0.0899  Listed    0.1699\n",
       "2         6938          6938  6939      True  0.0900  Listed    0.2599\n",
       "3         1389          1389  1390      True  0.0900  Listed    0.3499\n",
       "4         6957          6957  6958      True  0.0940  Listed    0.4439\n",
       "..         ...           ...   ...       ...     ...     ...       ...\n",
       "75        3676          3676  3677      True  0.1500  Listed    9.2711\n",
       "76        3362          3362  3363      True  0.1500  Listed    9.4211\n",
       "77        7931          7931  7932      True  0.1500  Listed    9.5711\n",
       "78        9100          9100  9101      True  0.1500  Listed    9.7211\n",
       "79        1464          1464  1465      True  0.1500  Listed    9.8711\n",
       "\n",
       "[80 rows x 7 columns]"
      ]
     },
     "execution_count": 35,
     "metadata": {},
     "output_type": "execute_result"
    }
   ],
   "source": [
    "sweep = 10\n",
    "Sales = sortedDads[sortedDads[\"TotalEth\"] < sweep]\n",
    "Sales"
   ]
  },
  {
   "cell_type": "markdown",
   "id": "934f03b5",
   "metadata": {},
   "source": [
    "### 1 Bored Ape sale"
   ]
  },
  {
   "cell_type": "code",
   "execution_count": 36,
   "id": "095437e5",
   "metadata": {
    "scrolled": true
   },
   "outputs": [
    {
     "data": {
      "text/html": [
       "<div>\n",
       "<style scoped>\n",
       "    .dataframe tbody tr th:only-of-type {\n",
       "        vertical-align: middle;\n",
       "    }\n",
       "\n",
       "    .dataframe tbody tr th {\n",
       "        vertical-align: top;\n",
       "    }\n",
       "\n",
       "    .dataframe thead th {\n",
       "        text-align: right;\n",
       "    }\n",
       "</style>\n",
       "<table border=\"1\" class=\"dataframe\">\n",
       "  <thead>\n",
       "    <tr style=\"text-align: right;\">\n",
       "      <th></th>\n",
       "      <th>Unnamed: 0</th>\n",
       "      <th>Unnamed: 0.1</th>\n",
       "      <th>id</th>\n",
       "      <th>isListed</th>\n",
       "      <th>Amount</th>\n",
       "      <th>Status</th>\n",
       "      <th>TotalEth</th>\n",
       "    </tr>\n",
       "  </thead>\n",
       "  <tbody>\n",
       "    <tr>\n",
       "      <th>0</th>\n",
       "      <td>8946</td>\n",
       "      <td>8946</td>\n",
       "      <td>8947</td>\n",
       "      <td>True</td>\n",
       "      <td>0.0800</td>\n",
       "      <td>Listed</td>\n",
       "      <td>0.0800</td>\n",
       "    </tr>\n",
       "    <tr>\n",
       "      <th>1</th>\n",
       "      <td>8312</td>\n",
       "      <td>8312</td>\n",
       "      <td>8313</td>\n",
       "      <td>True</td>\n",
       "      <td>0.0899</td>\n",
       "      <td>Listed</td>\n",
       "      <td>0.1699</td>\n",
       "    </tr>\n",
       "    <tr>\n",
       "      <th>2</th>\n",
       "      <td>6938</td>\n",
       "      <td>6938</td>\n",
       "      <td>6939</td>\n",
       "      <td>True</td>\n",
       "      <td>0.0900</td>\n",
       "      <td>Listed</td>\n",
       "      <td>0.2599</td>\n",
       "    </tr>\n",
       "    <tr>\n",
       "      <th>3</th>\n",
       "      <td>1389</td>\n",
       "      <td>1389</td>\n",
       "      <td>1390</td>\n",
       "      <td>True</td>\n",
       "      <td>0.0900</td>\n",
       "      <td>Listed</td>\n",
       "      <td>0.3499</td>\n",
       "    </tr>\n",
       "    <tr>\n",
       "      <th>4</th>\n",
       "      <td>6957</td>\n",
       "      <td>6957</td>\n",
       "      <td>6958</td>\n",
       "      <td>True</td>\n",
       "      <td>0.0940</td>\n",
       "      <td>Listed</td>\n",
       "      <td>0.4439</td>\n",
       "    </tr>\n",
       "    <tr>\n",
       "      <th>...</th>\n",
       "      <td>...</td>\n",
       "      <td>...</td>\n",
       "      <td>...</td>\n",
       "      <td>...</td>\n",
       "      <td>...</td>\n",
       "      <td>...</td>\n",
       "      <td>...</td>\n",
       "    </tr>\n",
       "    <tr>\n",
       "      <th>312</th>\n",
       "      <td>7043</td>\n",
       "      <td>7043</td>\n",
       "      <td>7044</td>\n",
       "      <td>True</td>\n",
       "      <td>0.6500</td>\n",
       "      <td>Listed</td>\n",
       "      <td>86.7191</td>\n",
       "    </tr>\n",
       "    <tr>\n",
       "      <th>313</th>\n",
       "      <td>3491</td>\n",
       "      <td>3491</td>\n",
       "      <td>3492</td>\n",
       "      <td>True</td>\n",
       "      <td>0.6500</td>\n",
       "      <td>Listed</td>\n",
       "      <td>87.3691</td>\n",
       "    </tr>\n",
       "    <tr>\n",
       "      <th>314</th>\n",
       "      <td>7619</td>\n",
       "      <td>7619</td>\n",
       "      <td>7620</td>\n",
       "      <td>True</td>\n",
       "      <td>0.6500</td>\n",
       "      <td>Listed</td>\n",
       "      <td>88.0191</td>\n",
       "    </tr>\n",
       "    <tr>\n",
       "      <th>315</th>\n",
       "      <td>8340</td>\n",
       "      <td>8340</td>\n",
       "      <td>8341</td>\n",
       "      <td>True</td>\n",
       "      <td>0.6500</td>\n",
       "      <td>Listed</td>\n",
       "      <td>88.6691</td>\n",
       "    </tr>\n",
       "    <tr>\n",
       "      <th>316</th>\n",
       "      <td>7926</td>\n",
       "      <td>7926</td>\n",
       "      <td>7927</td>\n",
       "      <td>True</td>\n",
       "      <td>0.6660</td>\n",
       "      <td>Listed</td>\n",
       "      <td>89.3351</td>\n",
       "    </tr>\n",
       "  </tbody>\n",
       "</table>\n",
       "<p>317 rows × 7 columns</p>\n",
       "</div>"
      ],
      "text/plain": [
       "     Unnamed: 0  Unnamed: 0.1    id  isListed  Amount  Status  TotalEth\n",
       "0          8946          8946  8947      True  0.0800  Listed    0.0800\n",
       "1          8312          8312  8313      True  0.0899  Listed    0.1699\n",
       "2          6938          6938  6939      True  0.0900  Listed    0.2599\n",
       "3          1389          1389  1390      True  0.0900  Listed    0.3499\n",
       "4          6957          6957  6958      True  0.0940  Listed    0.4439\n",
       "..          ...           ...   ...       ...     ...     ...       ...\n",
       "312        7043          7043  7044      True  0.6500  Listed   86.7191\n",
       "313        3491          3491  3492      True  0.6500  Listed   87.3691\n",
       "314        7619          7619  7620      True  0.6500  Listed   88.0191\n",
       "315        8340          8340  8341      True  0.6500  Listed   88.6691\n",
       "316        7926          7926  7927      True  0.6660  Listed   89.3351\n",
       "\n",
       "[317 rows x 7 columns]"
      ]
     },
     "execution_count": 36,
     "metadata": {},
     "output_type": "execute_result"
    }
   ],
   "source": [
    "BoredApeFloor = 89.9\n",
    "boughtByApeSale = sortedDads[sortedDads[\"TotalEth\"] < BoredApeFloor]\n",
    "boughtByApeSale"
   ]
  },
  {
   "cell_type": "markdown",
   "id": "4f9c957d",
   "metadata": {},
   "source": [
    "# CryptoMoms"
   ]
  },
  {
   "cell_type": "markdown",
   "id": "6a82d0cc",
   "metadata": {},
   "source": [
    "## Floor analysis"
   ]
  },
  {
   "cell_type": "code",
   "execution_count": 37,
   "id": "805f9427",
   "metadata": {},
   "outputs": [],
   "source": [
    "plt.rcParams[\"figure.figsize\"] = (20,15)"
   ]
  },
  {
   "cell_type": "code",
   "execution_count": 38,
   "id": "278401cc",
   "metadata": {},
   "outputs": [],
   "source": [
    "mom_df = pd.read_excel('listed_moms.xlsx')"
   ]
  },
  {
   "cell_type": "code",
   "execution_count": 39,
   "id": "4da07c8c",
   "metadata": {},
   "outputs": [],
   "source": [
    "listed_moms = mom_df[mom_df.isListed == True]"
   ]
  },
  {
   "cell_type": "markdown",
   "id": "642f7cd3",
   "metadata": {},
   "source": [
    "### Floor Price"
   ]
  },
  {
   "cell_type": "code",
   "execution_count": 40,
   "id": "d18eb19a",
   "metadata": {},
   "outputs": [
    {
     "data": {
      "text/plain": [
       "0.034"
      ]
     },
     "execution_count": 40,
     "metadata": {},
     "output_type": "execute_result"
    }
   ],
   "source": [
    "min(listed_moms['Amount'])"
   ]
  },
  {
   "cell_type": "markdown",
   "id": "3db6526b",
   "metadata": {},
   "source": [
    "### Total listed"
   ]
  },
  {
   "cell_type": "code",
   "execution_count": 41,
   "id": "62d673e0",
   "metadata": {},
   "outputs": [
    {
     "data": {
      "text/plain": [
       "238"
      ]
     },
     "execution_count": 41,
     "metadata": {},
     "output_type": "execute_result"
    }
   ],
   "source": [
    "len(listed_moms)"
   ]
  },
  {
   "cell_type": "markdown",
   "id": "8f70f8d7",
   "metadata": {},
   "source": [
    "### Group listed prices"
   ]
  },
  {
   "cell_type": "markdown",
   "id": "1c907605",
   "metadata": {},
   "source": [
    "#### Number below .1"
   ]
  },
  {
   "cell_type": "code",
   "execution_count": 42,
   "id": "e16a37c7",
   "metadata": {},
   "outputs": [
    {
     "data": {
      "text/plain": [
       "89"
      ]
     },
     "execution_count": 42,
     "metadata": {},
     "output_type": "execute_result"
    }
   ],
   "source": [
    "len(listed_moms[listed_moms['Amount'] < .1])"
   ]
  },
  {
   "cell_type": "markdown",
   "id": "6a9b111b",
   "metadata": {},
   "source": [
    "#### Number between .1 and .25"
   ]
  },
  {
   "cell_type": "code",
   "execution_count": 43,
   "id": "8752114d",
   "metadata": {},
   "outputs": [
    {
     "data": {
      "text/plain": [
       "80"
      ]
     },
     "execution_count": 43,
     "metadata": {},
     "output_type": "execute_result"
    }
   ],
   "source": [
    "len(listed_moms[listed_moms['Amount'].between(.1,.25)])"
   ]
  },
  {
   "cell_type": "markdown",
   "id": "8a2d5575",
   "metadata": {},
   "source": [
    "#### Number between .25 and .5"
   ]
  },
  {
   "cell_type": "code",
   "execution_count": 44,
   "id": "60f5fb5a",
   "metadata": {},
   "outputs": [
    {
     "data": {
      "text/plain": [
       "36"
      ]
     },
     "execution_count": 44,
     "metadata": {},
     "output_type": "execute_result"
    }
   ],
   "source": [
    "len(listed_moms[listed_moms['Amount'].between(.25,.5)])"
   ]
  },
  {
   "cell_type": "markdown",
   "id": "2dfccc17",
   "metadata": {},
   "source": [
    "#### Number between .5 and 1"
   ]
  },
  {
   "cell_type": "code",
   "execution_count": 45,
   "id": "3a6f40b7",
   "metadata": {},
   "outputs": [
    {
     "data": {
      "text/plain": [
       "31"
      ]
     },
     "execution_count": 45,
     "metadata": {},
     "output_type": "execute_result"
    }
   ],
   "source": [
    "len(listed_moms[listed_moms['Amount'].between(.5,1)])"
   ]
  },
  {
   "cell_type": "markdown",
   "id": "057bf391",
   "metadata": {},
   "source": [
    "### 0-1 eth Histogram"
   ]
  },
  {
   "cell_type": "code",
   "execution_count": 46,
   "id": "47c66fb0",
   "metadata": {},
   "outputs": [
    {
     "name": "stderr",
     "output_type": "stream",
     "text": [
      "/opt/anaconda3/lib/python3.9/site-packages/seaborn/distributions.py:2619: FutureWarning: `distplot` is a deprecated function and will be removed in a future version. Please adapt your code to use either `displot` (a figure-level function with similar flexibility) or `histplot` (an axes-level function for histograms).\n",
      "  warnings.warn(msg, FutureWarning)\n"
     ]
    },
    {
     "data": {
      "image/png": "[encoded data removed]",
      "text/plain": [
       "<Figure size 1440x1080 with 1 Axes>"
      ]
     },
     "metadata": {
      "needs_background": "light"
     },
     "output_type": "display_data"
    }
   ],
   "source": [
    "# Plot the histogram thanks to the distplot function\n",
    "ax = sns.distplot( a=listed_moms[\"Amount\"], hist=True, kde=False, rug=False, hist_kws={\"range\": [0,1]} )\n",
    "ax.set_xlim(0, 1)\n",
    "ax.set_xlabel('Listed Amount (Eth)')\n",
    "ax.set_ylabel('Number Listed')\n",
    "fig = ax.get_figure()\n",
    "fig.savefig('1ehistmom.png')"
   ]
  },
  {
   "cell_type": "markdown",
   "id": "ec9f80c3",
   "metadata": {},
   "source": [
    "### 0-0.5 eth histogram"
   ]
  },
  {
   "cell_type": "code",
   "execution_count": 47,
   "id": "ee658968",
   "metadata": {},
   "outputs": [
    {
     "data": {
      "image/png": "[encoded data removed]",
      "text/plain": [
       "<Figure size 1440x1080 with 1 Axes>"
      ]
     },
     "metadata": {
      "needs_background": "light"
     },
     "output_type": "display_data"
    }
   ],
   "source": [
    "ax = sns.distplot( a=listed_moms[\"Amount\"], hist=True, kde=False, rug=False, hist_kws={\"range\": [0.05,1]} )\n",
    "ax.set_xlim(.05, .5)\n",
    "ax.set_xlabel('Listed Amount (Eth)')\n",
    "ax.set_ylabel('Number Listed')\n",
    "fig = ax.get_figure()\n",
    "fig.savefig('5ehistmom.png')"
   ]
  },
  {
   "cell_type": "markdown",
   "id": "df47cd5f",
   "metadata": {},
   "source": [
    "### Sort by price and create total"
   ]
  },
  {
   "cell_type": "code",
   "execution_count": 48,
   "id": "44b281b0",
   "metadata": {
    "scrolled": true
   },
   "outputs": [
    {
     "name": "stderr",
     "output_type": "stream",
     "text": [
      "/var/folders/2x/3mxlxh5j41591hhpz0c2wyhr0000gn/T/ipykernel_20881/2096023736.py:1: SettingWithCopyWarning: \n",
      "A value is trying to be set on a copy of a slice from a DataFrame.\n",
      "Try using .loc[row_indexer,col_indexer] = value instead\n",
      "\n",
      "See the caveats in the documentation: https://pandas.pydata.org/pandas-docs/stable/user_guide/indexing.html#returning-a-view-versus-a-copy\n",
      "  listed_moms[\"TotalEth\"] = 0\n"
     ]
    }
   ],
   "source": [
    "listed_moms[\"TotalEth\"] = 0"
   ]
  },
  {
   "cell_type": "code",
   "execution_count": 49,
   "id": "eb9c1309",
   "metadata": {},
   "outputs": [
    {
     "data": {
      "text/html": [
       "<div>\n",
       "<style scoped>\n",
       "    .dataframe tbody tr th:only-of-type {\n",
       "        vertical-align: middle;\n",
       "    }\n",
       "\n",
       "    .dataframe tbody tr th {\n",
       "        vertical-align: top;\n",
       "    }\n",
       "\n",
       "    .dataframe thead th {\n",
       "        text-align: right;\n",
       "    }\n",
       "</style>\n",
       "<table border=\"1\" class=\"dataframe\">\n",
       "  <thead>\n",
       "    <tr style=\"text-align: right;\">\n",
       "      <th></th>\n",
       "      <th>Unnamed: 0</th>\n",
       "      <th>Unnamed: 0.1</th>\n",
       "      <th>id</th>\n",
       "      <th>isListed</th>\n",
       "      <th>Amount</th>\n",
       "      <th>Status</th>\n",
       "      <th>TotalEth</th>\n",
       "    </tr>\n",
       "  </thead>\n",
       "  <tbody>\n",
       "    <tr>\n",
       "      <th>0</th>\n",
       "      <td>8057</td>\n",
       "      <td>8057</td>\n",
       "      <td>8058</td>\n",
       "      <td>True</td>\n",
       "      <td>0.034</td>\n",
       "      <td>Listed</td>\n",
       "      <td>0.0340</td>\n",
       "    </tr>\n",
       "    <tr>\n",
       "      <th>1</th>\n",
       "      <td>4210</td>\n",
       "      <td>4210</td>\n",
       "      <td>4211</td>\n",
       "      <td>True</td>\n",
       "      <td>0.035</td>\n",
       "      <td>Listed</td>\n",
       "      <td>0.0690</td>\n",
       "    </tr>\n",
       "    <tr>\n",
       "      <th>2</th>\n",
       "      <td>2582</td>\n",
       "      <td>2582</td>\n",
       "      <td>2583</td>\n",
       "      <td>True</td>\n",
       "      <td>0.035</td>\n",
       "      <td>Listed</td>\n",
       "      <td>0.1040</td>\n",
       "    </tr>\n",
       "    <tr>\n",
       "      <th>3</th>\n",
       "      <td>1745</td>\n",
       "      <td>1745</td>\n",
       "      <td>1746</td>\n",
       "      <td>True</td>\n",
       "      <td>0.035</td>\n",
       "      <td>Listed</td>\n",
       "      <td>0.1390</td>\n",
       "    </tr>\n",
       "    <tr>\n",
       "      <th>4</th>\n",
       "      <td>3734</td>\n",
       "      <td>3734</td>\n",
       "      <td>3735</td>\n",
       "      <td>True</td>\n",
       "      <td>0.035</td>\n",
       "      <td>Listed</td>\n",
       "      <td>0.1740</td>\n",
       "    </tr>\n",
       "    <tr>\n",
       "      <th>...</th>\n",
       "      <td>...</td>\n",
       "      <td>...</td>\n",
       "      <td>...</td>\n",
       "      <td>...</td>\n",
       "      <td>...</td>\n",
       "      <td>...</td>\n",
       "      <td>...</td>\n",
       "    </tr>\n",
       "    <tr>\n",
       "      <th>233</th>\n",
       "      <td>1440</td>\n",
       "      <td>1440</td>\n",
       "      <td>1441</td>\n",
       "      <td>True</td>\n",
       "      <td>10.000</td>\n",
       "      <td>Listed</td>\n",
       "      <td>91.4591</td>\n",
       "    </tr>\n",
       "    <tr>\n",
       "      <th>234</th>\n",
       "      <td>3996</td>\n",
       "      <td>3996</td>\n",
       "      <td>3997</td>\n",
       "      <td>True</td>\n",
       "      <td>10.000</td>\n",
       "      <td>Listed</td>\n",
       "      <td>101.4591</td>\n",
       "    </tr>\n",
       "    <tr>\n",
       "      <th>235</th>\n",
       "      <td>2370</td>\n",
       "      <td>2370</td>\n",
       "      <td>2371</td>\n",
       "      <td>True</td>\n",
       "      <td>30.000</td>\n",
       "      <td>Listed</td>\n",
       "      <td>131.4591</td>\n",
       "    </tr>\n",
       "    <tr>\n",
       "      <th>236</th>\n",
       "      <td>4264</td>\n",
       "      <td>4264</td>\n",
       "      <td>4265</td>\n",
       "      <td>True</td>\n",
       "      <td>65.000</td>\n",
       "      <td>Listed</td>\n",
       "      <td>196.4591</td>\n",
       "    </tr>\n",
       "    <tr>\n",
       "      <th>237</th>\n",
       "      <td>789</td>\n",
       "      <td>789</td>\n",
       "      <td>790</td>\n",
       "      <td>True</td>\n",
       "      <td>69.000</td>\n",
       "      <td>Listed</td>\n",
       "      <td>265.4591</td>\n",
       "    </tr>\n",
       "  </tbody>\n",
       "</table>\n",
       "<p>238 rows × 7 columns</p>\n",
       "</div>"
      ],
      "text/plain": [
       "     Unnamed: 0  Unnamed: 0.1    id  isListed  Amount  Status  TotalEth\n",
       "0          8057          8057  8058      True   0.034  Listed    0.0340\n",
       "1          4210          4210  4211      True   0.035  Listed    0.0690\n",
       "2          2582          2582  2583      True   0.035  Listed    0.1040\n",
       "3          1745          1745  1746      True   0.035  Listed    0.1390\n",
       "4          3734          3734  3735      True   0.035  Listed    0.1740\n",
       "..          ...           ...   ...       ...     ...     ...       ...\n",
       "233        1440          1440  1441      True  10.000  Listed   91.4591\n",
       "234        3996          3996  3997      True  10.000  Listed  101.4591\n",
       "235        2370          2370  2371      True  30.000  Listed  131.4591\n",
       "236        4264          4264  4265      True  65.000  Listed  196.4591\n",
       "237         789           789   790      True  69.000  Listed  265.4591\n",
       "\n",
       "[238 rows x 7 columns]"
      ]
     },
     "execution_count": 49,
     "metadata": {},
     "output_type": "execute_result"
    }
   ],
   "source": [
    "sortedMoms = listed_moms.sort_values(\"Amount\")\n",
    "sortedMoms.reset_index(drop=True,inplace=True)\n",
    "sortedMoms[\"TotalEth\"] = 0\n",
    "sortedMoms[\"TotalEth\"] = sortedMoms[\"TotalEth\"].astype(float)\n",
    "sortedMoms.at[0,\"TotalEth\"] = sortedMoms.iloc[0][\"Amount\"]\n",
    "for i in range(1,len(sortedMoms)):\n",
    "    sortedMoms.at[i,\"TotalEth\"] = sortedMoms.iloc[i][\"Amount\"] + sortedMoms.iloc[i-1][\"TotalEth\"]\n",
    "sortedMoms"
   ]
  },
  {
   "cell_type": "code",
   "execution_count": 50,
   "id": "3cc4cd5b",
   "metadata": {},
   "outputs": [
    {
     "data": {
      "text/html": [
       "<div>\n",
       "<style scoped>\n",
       "    .dataframe tbody tr th:only-of-type {\n",
       "        vertical-align: middle;\n",
       "    }\n",
       "\n",
       "    .dataframe tbody tr th {\n",
       "        vertical-align: top;\n",
       "    }\n",
       "\n",
       "    .dataframe thead th {\n",
       "        text-align: right;\n",
       "    }\n",
       "</style>\n",
       "<table border=\"1\" class=\"dataframe\">\n",
       "  <thead>\n",
       "    <tr style=\"text-align: right;\">\n",
       "      <th></th>\n",
       "      <th>Unnamed: 0</th>\n",
       "      <th>Unnamed: 0.1</th>\n",
       "      <th>id</th>\n",
       "      <th>isListed</th>\n",
       "      <th>Amount</th>\n",
       "      <th>Status</th>\n",
       "      <th>TotalEth</th>\n",
       "    </tr>\n",
       "  </thead>\n",
       "  <tbody>\n",
       "    <tr>\n",
       "      <th>221</th>\n",
       "      <td>7387</td>\n",
       "      <td>7387</td>\n",
       "      <td>7388</td>\n",
       "      <td>True</td>\n",
       "      <td>1.0</td>\n",
       "      <td>Listed</td>\n",
       "      <td>46.9492</td>\n",
       "    </tr>\n",
       "    <tr>\n",
       "      <th>222</th>\n",
       "      <td>316</td>\n",
       "      <td>316</td>\n",
       "      <td>317</td>\n",
       "      <td>True</td>\n",
       "      <td>1.0</td>\n",
       "      <td>Listed</td>\n",
       "      <td>47.9492</td>\n",
       "    </tr>\n",
       "    <tr>\n",
       "      <th>223</th>\n",
       "      <td>7836</td>\n",
       "      <td>7836</td>\n",
       "      <td>7837</td>\n",
       "      <td>True</td>\n",
       "      <td>1.0</td>\n",
       "      <td>Listed</td>\n",
       "      <td>48.9492</td>\n",
       "    </tr>\n",
       "    <tr>\n",
       "      <th>224</th>\n",
       "      <td>5293</td>\n",
       "      <td>5293</td>\n",
       "      <td>5294</td>\n",
       "      <td>True</td>\n",
       "      <td>1.0</td>\n",
       "      <td>Listed</td>\n",
       "      <td>49.9492</td>\n",
       "    </tr>\n",
       "  </tbody>\n",
       "</table>\n",
       "</div>"
      ],
      "text/plain": [
       "     Unnamed: 0  Unnamed: 0.1    id  isListed  Amount  Status  TotalEth\n",
       "221        7387          7387  7388      True     1.0  Listed   46.9492\n",
       "222         316           316   317      True     1.0  Listed   47.9492\n",
       "223        7836          7836  7837      True     1.0  Listed   48.9492\n",
       "224        5293          5293  5294      True     1.0  Listed   49.9492"
      ]
     },
     "execution_count": 50,
     "metadata": {},
     "output_type": "execute_result"
    }
   ],
   "source": [
    "sortedMoms[sortedMoms[\"Amount\"] == 1]"
   ]
  },
  {
   "cell_type": "markdown",
   "id": "a6aa2f66",
   "metadata": {},
   "source": [
    "### Line Chart of listed values vs eth to get there 0-1"
   ]
  },
  {
   "cell_type": "code",
   "execution_count": 51,
   "id": "35bd4761",
   "metadata": {},
   "outputs": [
    {
     "data": {
      "image/png": "[encoded data removed]",
      "text/plain": [
       "<Figure size 1440x1080 with 1 Axes>"
      ]
     },
     "metadata": {
      "needs_background": "light"
     },
     "output_type": "display_data"
    }
   ],
   "source": [
    "plt.xlim([0,1])\n",
    "plt.ylim([0,50])\n",
    "plt.xlabel('Floor Value (Eth)')\n",
    "plt.ylabel('Eth Needed To Reach Floor')\n",
    "plt.rcParams[\"figure.figsize\"] = (18,12)\n",
    "plt.plot( 'Amount', 'TotalEth', data=sortedMoms)\n",
    "plt.savefig('gettofloor1mom.png')"
   ]
  },
  {
   "cell_type": "markdown",
   "id": "37f306e2",
   "metadata": {},
   "source": [
    "### Line Chart of listed values vs eth to get there 0-.5"
   ]
  },
  {
   "cell_type": "code",
   "execution_count": 52,
   "id": "5721728c",
   "metadata": {
    "scrolled": false
   },
   "outputs": [
    {
     "data": {
      "image/png": "[encoded data removed]",
      "text/plain": [
       "<Figure size 1296x864 with 1 Axes>"
      ]
     },
     "metadata": {
      "needs_background": "light"
     },
     "output_type": "display_data"
    }
   ],
   "source": [
    "plt.xlim([0,.5])\n",
    "plt.ylim([0,30])\n",
    "plt.xlabel('Floor Value (Eth)')\n",
    "plt.ylabel('Eth Needed To Reach Floor')\n",
    "plt.rcParams[\"figure.figsize\"] = (18,12)\n",
    "plt.plot( 'Amount', 'TotalEth', data=sortedMoms)\n",
    "plt.savefig('gettofloor2mom.png')"
   ]
  },
  {
   "cell_type": "markdown",
   "id": "2c9694d6",
   "metadata": {},
   "source": [
    "### 10 Eth sweep"
   ]
  },
  {
   "cell_type": "code",
   "execution_count": 54,
   "id": "998fe808",
   "metadata": {
    "scrolled": true
   },
   "outputs": [
    {
     "data": {
      "text/html": [
       "<div>\n",
       "<style scoped>\n",
       "    .dataframe tbody tr th:only-of-type {\n",
       "        vertical-align: middle;\n",
       "    }\n",
       "\n",
       "    .dataframe tbody tr th {\n",
       "        vertical-align: top;\n",
       "    }\n",
       "\n",
       "    .dataframe thead th {\n",
       "        text-align: right;\n",
       "    }\n",
       "</style>\n",
       "<table border=\"1\" class=\"dataframe\">\n",
       "  <thead>\n",
       "    <tr style=\"text-align: right;\">\n",
       "      <th></th>\n",
       "      <th>Unnamed: 0</th>\n",
       "      <th>Unnamed: 0.1</th>\n",
       "      <th>id</th>\n",
       "      <th>isListed</th>\n",
       "      <th>Amount</th>\n",
       "      <th>Status</th>\n",
       "      <th>TotalEth</th>\n",
       "    </tr>\n",
       "  </thead>\n",
       "  <tbody>\n",
       "    <tr>\n",
       "      <th>0</th>\n",
       "      <td>8057</td>\n",
       "      <td>8057</td>\n",
       "      <td>8058</td>\n",
       "      <td>True</td>\n",
       "      <td>0.034</td>\n",
       "      <td>Listed</td>\n",
       "      <td>0.0340</td>\n",
       "    </tr>\n",
       "    <tr>\n",
       "      <th>1</th>\n",
       "      <td>4210</td>\n",
       "      <td>4210</td>\n",
       "      <td>4211</td>\n",
       "      <td>True</td>\n",
       "      <td>0.035</td>\n",
       "      <td>Listed</td>\n",
       "      <td>0.0690</td>\n",
       "    </tr>\n",
       "    <tr>\n",
       "      <th>2</th>\n",
       "      <td>2582</td>\n",
       "      <td>2582</td>\n",
       "      <td>2583</td>\n",
       "      <td>True</td>\n",
       "      <td>0.035</td>\n",
       "      <td>Listed</td>\n",
       "      <td>0.1040</td>\n",
       "    </tr>\n",
       "    <tr>\n",
       "      <th>3</th>\n",
       "      <td>1745</td>\n",
       "      <td>1745</td>\n",
       "      <td>1746</td>\n",
       "      <td>True</td>\n",
       "      <td>0.035</td>\n",
       "      <td>Listed</td>\n",
       "      <td>0.1390</td>\n",
       "    </tr>\n",
       "    <tr>\n",
       "      <th>4</th>\n",
       "      <td>3734</td>\n",
       "      <td>3734</td>\n",
       "      <td>3735</td>\n",
       "      <td>True</td>\n",
       "      <td>0.035</td>\n",
       "      <td>Listed</td>\n",
       "      <td>0.1740</td>\n",
       "    </tr>\n",
       "    <tr>\n",
       "      <th>...</th>\n",
       "      <td>...</td>\n",
       "      <td>...</td>\n",
       "      <td>...</td>\n",
       "      <td>...</td>\n",
       "      <td>...</td>\n",
       "      <td>...</td>\n",
       "      <td>...</td>\n",
       "    </tr>\n",
       "    <tr>\n",
       "      <th>124</th>\n",
       "      <td>6051</td>\n",
       "      <td>6051</td>\n",
       "      <td>6052</td>\n",
       "      <td>True</td>\n",
       "      <td>0.140</td>\n",
       "      <td>Listed</td>\n",
       "      <td>9.3027</td>\n",
       "    </tr>\n",
       "    <tr>\n",
       "      <th>125</th>\n",
       "      <td>1012</td>\n",
       "      <td>1012</td>\n",
       "      <td>1013</td>\n",
       "      <td>True</td>\n",
       "      <td>0.149</td>\n",
       "      <td>Listed</td>\n",
       "      <td>9.4517</td>\n",
       "    </tr>\n",
       "    <tr>\n",
       "      <th>126</th>\n",
       "      <td>5092</td>\n",
       "      <td>5092</td>\n",
       "      <td>5093</td>\n",
       "      <td>True</td>\n",
       "      <td>0.150</td>\n",
       "      <td>Listed</td>\n",
       "      <td>9.6017</td>\n",
       "    </tr>\n",
       "    <tr>\n",
       "      <th>127</th>\n",
       "      <td>5703</td>\n",
       "      <td>5703</td>\n",
       "      <td>5704</td>\n",
       "      <td>True</td>\n",
       "      <td>0.150</td>\n",
       "      <td>Listed</td>\n",
       "      <td>9.7517</td>\n",
       "    </tr>\n",
       "    <tr>\n",
       "      <th>128</th>\n",
       "      <td>7938</td>\n",
       "      <td>7938</td>\n",
       "      <td>7939</td>\n",
       "      <td>True</td>\n",
       "      <td>0.150</td>\n",
       "      <td>Listed</td>\n",
       "      <td>9.9017</td>\n",
       "    </tr>\n",
       "  </tbody>\n",
       "</table>\n",
       "<p>129 rows × 7 columns</p>\n",
       "</div>"
      ],
      "text/plain": [
       "     Unnamed: 0  Unnamed: 0.1    id  isListed  Amount  Status  TotalEth\n",
       "0          8057          8057  8058      True   0.034  Listed    0.0340\n",
       "1          4210          4210  4211      True   0.035  Listed    0.0690\n",
       "2          2582          2582  2583      True   0.035  Listed    0.1040\n",
       "3          1745          1745  1746      True   0.035  Listed    0.1390\n",
       "4          3734          3734  3735      True   0.035  Listed    0.1740\n",
       "..          ...           ...   ...       ...     ...     ...       ...\n",
       "124        6051          6051  6052      True   0.140  Listed    9.3027\n",
       "125        1012          1012  1013      True   0.149  Listed    9.4517\n",
       "126        5092          5092  5093      True   0.150  Listed    9.6017\n",
       "127        5703          5703  5704      True   0.150  Listed    9.7517\n",
       "128        7938          7938  7939      True   0.150  Listed    9.9017\n",
       "\n",
       "[129 rows x 7 columns]"
      ]
     },
     "execution_count": 54,
     "metadata": {},
     "output_type": "execute_result"
    }
   ],
   "source": [
    "sweep = 10\n",
    "Sales = sortedMoms[sortedMoms[\"TotalEth\"] < sweep]\n",
    "Sales"
   ]
  },
  {
   "cell_type": "markdown",
   "id": "863d5b13",
   "metadata": {},
   "source": [
    "### 1 Bored Ape sale"
   ]
  },
  {
   "cell_type": "code",
   "execution_count": 55,
   "id": "bbc22219",
   "metadata": {
    "scrolled": true
   },
   "outputs": [
    {
     "data": {
      "text/html": [
       "<div>\n",
       "<style scoped>\n",
       "    .dataframe tbody tr th:only-of-type {\n",
       "        vertical-align: middle;\n",
       "    }\n",
       "\n",
       "    .dataframe tbody tr th {\n",
       "        vertical-align: top;\n",
       "    }\n",
       "\n",
       "    .dataframe thead th {\n",
       "        text-align: right;\n",
       "    }\n",
       "</style>\n",
       "<table border=\"1\" class=\"dataframe\">\n",
       "  <thead>\n",
       "    <tr style=\"text-align: right;\">\n",
       "      <th></th>\n",
       "      <th>Unnamed: 0</th>\n",
       "      <th>Unnamed: 0.1</th>\n",
       "      <th>id</th>\n",
       "      <th>isListed</th>\n",
       "      <th>Amount</th>\n",
       "      <th>Status</th>\n",
       "      <th>TotalEth</th>\n",
       "    </tr>\n",
       "  </thead>\n",
       "  <tbody>\n",
       "    <tr>\n",
       "      <th>0</th>\n",
       "      <td>8057</td>\n",
       "      <td>8057</td>\n",
       "      <td>8058</td>\n",
       "      <td>True</td>\n",
       "      <td>0.0340</td>\n",
       "      <td>Listed</td>\n",
       "      <td>0.0340</td>\n",
       "    </tr>\n",
       "    <tr>\n",
       "      <th>1</th>\n",
       "      <td>4210</td>\n",
       "      <td>4210</td>\n",
       "      <td>4211</td>\n",
       "      <td>True</td>\n",
       "      <td>0.0350</td>\n",
       "      <td>Listed</td>\n",
       "      <td>0.0690</td>\n",
       "    </tr>\n",
       "    <tr>\n",
       "      <th>2</th>\n",
       "      <td>2582</td>\n",
       "      <td>2582</td>\n",
       "      <td>2583</td>\n",
       "      <td>True</td>\n",
       "      <td>0.0350</td>\n",
       "      <td>Listed</td>\n",
       "      <td>0.1040</td>\n",
       "    </tr>\n",
       "    <tr>\n",
       "      <th>3</th>\n",
       "      <td>1745</td>\n",
       "      <td>1745</td>\n",
       "      <td>1746</td>\n",
       "      <td>True</td>\n",
       "      <td>0.0350</td>\n",
       "      <td>Listed</td>\n",
       "      <td>0.1390</td>\n",
       "    </tr>\n",
       "    <tr>\n",
       "      <th>4</th>\n",
       "      <td>3734</td>\n",
       "      <td>3734</td>\n",
       "      <td>3735</td>\n",
       "      <td>True</td>\n",
       "      <td>0.0350</td>\n",
       "      <td>Listed</td>\n",
       "      <td>0.1740</td>\n",
       "    </tr>\n",
       "    <tr>\n",
       "      <th>...</th>\n",
       "      <td>...</td>\n",
       "      <td>...</td>\n",
       "      <td>...</td>\n",
       "      <td>...</td>\n",
       "      <td>...</td>\n",
       "      <td>...</td>\n",
       "      <td>...</td>\n",
       "    </tr>\n",
       "    <tr>\n",
       "      <th>228</th>\n",
       "      <td>2170</td>\n",
       "      <td>2170</td>\n",
       "      <td>2171</td>\n",
       "      <td>True</td>\n",
       "      <td>1.6900</td>\n",
       "      <td>Listed</td>\n",
       "      <td>56.2292</td>\n",
       "    </tr>\n",
       "    <tr>\n",
       "      <th>229</th>\n",
       "      <td>979</td>\n",
       "      <td>979</td>\n",
       "      <td>980</td>\n",
       "      <td>True</td>\n",
       "      <td>2.2300</td>\n",
       "      <td>Listed</td>\n",
       "      <td>58.4592</td>\n",
       "    </tr>\n",
       "    <tr>\n",
       "      <th>230</th>\n",
       "      <td>7183</td>\n",
       "      <td>7183</td>\n",
       "      <td>7184</td>\n",
       "      <td>True</td>\n",
       "      <td>3.0000</td>\n",
       "      <td>Listed</td>\n",
       "      <td>61.4592</td>\n",
       "    </tr>\n",
       "    <tr>\n",
       "      <th>231</th>\n",
       "      <td>3970</td>\n",
       "      <td>3970</td>\n",
       "      <td>3971</td>\n",
       "      <td>True</td>\n",
       "      <td>9.9999</td>\n",
       "      <td>Listed</td>\n",
       "      <td>71.4591</td>\n",
       "    </tr>\n",
       "    <tr>\n",
       "      <th>232</th>\n",
       "      <td>5508</td>\n",
       "      <td>5508</td>\n",
       "      <td>5509</td>\n",
       "      <td>True</td>\n",
       "      <td>10.0000</td>\n",
       "      <td>Listed</td>\n",
       "      <td>81.4591</td>\n",
       "    </tr>\n",
       "  </tbody>\n",
       "</table>\n",
       "<p>233 rows × 7 columns</p>\n",
       "</div>"
      ],
      "text/plain": [
       "     Unnamed: 0  Unnamed: 0.1    id  isListed   Amount  Status  TotalEth\n",
       "0          8057          8057  8058      True   0.0340  Listed    0.0340\n",
       "1          4210          4210  4211      True   0.0350  Listed    0.0690\n",
       "2          2582          2582  2583      True   0.0350  Listed    0.1040\n",
       "3          1745          1745  1746      True   0.0350  Listed    0.1390\n",
       "4          3734          3734  3735      True   0.0350  Listed    0.1740\n",
       "..          ...           ...   ...       ...      ...     ...       ...\n",
       "228        2170          2170  2171      True   1.6900  Listed   56.2292\n",
       "229         979           979   980      True   2.2300  Listed   58.4592\n",
       "230        7183          7183  7184      True   3.0000  Listed   61.4592\n",
       "231        3970          3970  3971      True   9.9999  Listed   71.4591\n",
       "232        5508          5508  5509      True  10.0000  Listed   81.4591\n",
       "\n",
       "[233 rows x 7 columns]"
      ]
     },
     "execution_count": 55,
     "metadata": {},
     "output_type": "execute_result"
    }
   ],
   "source": [
    "BoredApeFloor = 89.9\n",
    "boughtByApeSale = sortedMoms[sortedMoms[\"TotalEth\"] < BoredApeFloor]\n",
    "boughtByApeSale"
   ]
  },
  {
   "cell_type": "code",
   "execution_count": 56,
   "id": "fc37d6d2",
   "metadata": {},
   "outputs": [
    {
     "data": {
      "text/html": [
       "<div>\n",
       "<style scoped>\n",
       "    .dataframe tbody tr th:only-of-type {\n",
       "        vertical-align: middle;\n",
       "    }\n",
       "\n",
       "    .dataframe tbody tr th {\n",
       "        vertical-align: top;\n",
       "    }\n",
       "\n",
       "    .dataframe thead th {\n",
       "        text-align: right;\n",
       "    }\n",
       "</style>\n",
       "<table border=\"1\" class=\"dataframe\">\n",
       "  <thead>\n",
       "    <tr style=\"text-align: right;\">\n",
       "      <th></th>\n",
       "      <th>Unnamed: 0</th>\n",
       "      <th>Unnamed: 0.1</th>\n",
       "      <th>id</th>\n",
       "      <th>isListed</th>\n",
       "      <th>Amount</th>\n",
       "      <th>Status</th>\n",
       "      <th>TotalEth</th>\n",
       "    </tr>\n",
       "  </thead>\n",
       "  <tbody>\n",
       "    <tr>\n",
       "      <th>233</th>\n",
       "      <td>1440</td>\n",
       "      <td>1440</td>\n",
       "      <td>1441</td>\n",
       "      <td>True</td>\n",
       "      <td>10.0</td>\n",
       "      <td>Listed</td>\n",
       "      <td>91.4591</td>\n",
       "    </tr>\n",
       "    <tr>\n",
       "      <th>234</th>\n",
       "      <td>3996</td>\n",
       "      <td>3996</td>\n",
       "      <td>3997</td>\n",
       "      <td>True</td>\n",
       "      <td>10.0</td>\n",
       "      <td>Listed</td>\n",
       "      <td>101.4591</td>\n",
       "    </tr>\n",
       "    <tr>\n",
       "      <th>235</th>\n",
       "      <td>2370</td>\n",
       "      <td>2370</td>\n",
       "      <td>2371</td>\n",
       "      <td>True</td>\n",
       "      <td>30.0</td>\n",
       "      <td>Listed</td>\n",
       "      <td>131.4591</td>\n",
       "    </tr>\n",
       "    <tr>\n",
       "      <th>236</th>\n",
       "      <td>4264</td>\n",
       "      <td>4264</td>\n",
       "      <td>4265</td>\n",
       "      <td>True</td>\n",
       "      <td>65.0</td>\n",
       "      <td>Listed</td>\n",
       "      <td>196.4591</td>\n",
       "    </tr>\n",
       "    <tr>\n",
       "      <th>237</th>\n",
       "      <td>789</td>\n",
       "      <td>789</td>\n",
       "      <td>790</td>\n",
       "      <td>True</td>\n",
       "      <td>69.0</td>\n",
       "      <td>Listed</td>\n",
       "      <td>265.4591</td>\n",
       "    </tr>\n",
       "  </tbody>\n",
       "</table>\n",
       "</div>"
      ],
      "text/plain": [
       "     Unnamed: 0  Unnamed: 0.1    id  isListed  Amount  Status  TotalEth\n",
       "233        1440          1440  1441      True    10.0  Listed   91.4591\n",
       "234        3996          3996  3997      True    10.0  Listed  101.4591\n",
       "235        2370          2370  2371      True    30.0  Listed  131.4591\n",
       "236        4264          4264  4265      True    65.0  Listed  196.4591\n",
       "237         789           789   790      True    69.0  Listed  265.4591"
      ]
     },
     "execution_count": 56,
     "metadata": {},
     "output_type": "execute_result"
    }
   ],
   "source": [
    "sortedMoms[sortedMoms[\"TotalEth\"] >= BoredApeFloor]"
   ]
  },
  {
   "cell_type": "code",
   "execution_count": null,
   "id": "4f06c568",
   "metadata": {},
   "outputs": [],
   "source": []
  }
 ],
 "metadata": {
  "kernelspec": {
   "display_name": "Python 3 (ipykernel)",
   "language": "python",
   "name": "python3"
  },
  "language_info": {
   "codemirror_mode": {
    "name": "ipython",
    "version": 3
   },
   "file_extension": ".py",
   "mimetype": "text/x-python",
   "name": "python",
   "nbconvert_exporter": "python",
   "pygments_lexer": "ipython3",
   "version": "3.9.7"
  }
 },
 "nbformat": 4,
 "nbformat_minor": 5
}
